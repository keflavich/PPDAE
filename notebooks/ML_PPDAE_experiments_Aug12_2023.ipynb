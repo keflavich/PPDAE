{
 "cells": [
  {
   "cell_type": "markdown",
   "id": "f28bc3d3-9ea6-4501-a005-2d9db6ee321c",
   "metadata": {},
   "source": [
    "# Set up for ML\n",
    "\n",
    "We'd like to try to replicate the approach these guys took\n",
    "\n",
    "https://github.com/jorgemarpa/PELS-VAE / https://github.com/jorgemarpa/PPDAE \n",
    "https://arxiv.org/abs/2005.07773 \n",
    "https://ui.adsabs.harvard.edu/abs/2022ApJ...939...73T/abstract\n",
    "\n",
    "to speed up RT calculations.\n",
    "\n",
    "A few options exist:\n",
    "\n",
    " 1. Fully predict SED (in each aperture?) based on model paramters\n",
    " 2. Predict temperature map as a function of r, z given model parameters\n",
    " 3. Predict temperature _and_ density map as a function of r, z given model parameters\n",
    " \n",
    "I'm going to try (2) first"
   ]
  },
  {
   "cell_type": "code",
   "execution_count": 1,
   "id": "c5c78cf1-ee7e-439d-bf0a-87f615b5be8f",
   "metadata": {},
   "outputs": [
    {
     "name": "stdout",
     "output_type": "stream",
     "text": [
      "/blue/adamginsburg/richardson.t/research/flux\n"
     ]
    }
   ],
   "source": [
    "cd '/blue/adamginsburg/richardson.t/research/flux'"
   ]
  },
  {
   "cell_type": "code",
   "execution_count": 2,
   "id": "bc491ede-2fed-43e2-9327-9804e96451b4",
   "metadata": {},
   "outputs": [],
   "source": [
    "import numpy as np\n",
    "from user_functions import metric_distance\n",
    "from astropy.table import Table\n",
    "from sedfitter.sed import SEDCube\n",
    "from scipy.spatial import KDTree\n",
    "from tqdm import tqdm\n",
    "\n",
    "def get_mass(table,row,ap,key):\n",
    "    return np.nanmax(table[key][row,:ap])"
   ]
  },
  {
   "cell_type": "code",
   "execution_count": 3,
   "id": "5a7657ab-909a-4df4-9198-708932de2afd",
   "metadata": {},
   "outputs": [],
   "source": [
    "from sedfitter.sed import SEDCube\n",
    "from astropy.table import Table\n",
    "from astropy import units as u"
   ]
  },
  {
   "cell_type": "code",
   "execution_count": 4,
   "id": "72e09450-471a-4e9b-941b-88728abf6577",
   "metadata": {},
   "outputs": [],
   "source": [
    "%matplotlib inline\n",
    "import pylab as pl\n",
    "pl.rcParams['font.size'] = 16\n",
    "pl.style.use('dark_background')"
   ]
  },
  {
   "cell_type": "code",
   "execution_count": 5,
   "id": "f4a1fe2d-6a18-40e9-8162-da9e7f590563",
   "metadata": {},
   "outputs": [],
   "source": [
    "from hyperion import model"
   ]
  },
  {
   "cell_type": "code",
   "execution_count": 6,
   "id": "52c09501-d419-4833-ad47-213d25109044",
   "metadata": {},
   "outputs": [],
   "source": [
    "geometry='s-p-smi'\n",
    "incs=1\n",
    "ap=10\n",
    "wav=24\n",
    "norm='none'\n",
    "neighbors=10"
   ]
  },
  {
   "cell_type": "code",
   "execution_count": 7,
   "id": "42a250f1-f41f-4bf6-aa64-6499c6dc3485",
   "metadata": {},
   "outputs": [
    {
     "name": "stderr",
     "output_type": "stream",
     "text": [
      "/scratch/local/5800391/ipykernel_47726/1053669639.py:11: UserWarning: Warning: converting a masked element to nan.\n",
      "  env_masses = np.array(env_masses)\n"
     ]
    }
   ],
   "source": [
    "pars = Table.read(f'robitaille_models-1.2/{geometry}/augmented_parameters.fits')\n",
    "pars.add_column(range(0,len(pars)),name='Index')\n",
    "reduced_pars = pars[::incs]\n",
    "\n",
    "all_T = reduced_pars['star.temperature']\n",
    "all_L = reduced_pars['Model Luminosity']\n",
    "\n",
    "env_masses = []\n",
    "for row in range(len(reduced_pars)):\n",
    "    env_masses.append(get_mass(pars,row,ap,'Sphere Masses'))\n",
    "env_masses = np.array(env_masses)\n",
    "\n",
    "if (norm == 'none') or (norm == 'unnormed_metric'):\n",
    "    fulldat = np.array((np.log10(all_T),\n",
    "                        np.log10(all_L),\n",
    "                        np.log10(env_masses)))\n",
    "else:\n",
    "    t_norm, l_norm, m_norm = log_range(all_T), log_range(all_L), log_range(env_masses)\n",
    "    fulldat = np.array((np.log10(all_T)/t_norm, np.log10(all_L)/l_norm, np.log10(env_masses)/m_norm))\n",
    "\n",
    "valid_models = np.all(np.isfinite(fulldat), axis=0)\n",
    "fulldat = fulldat[:,valid_models]\n",
    "kt = KDTree(fulldat.T)\n",
    "valid_pars = reduced_pars[valid_models]\n",
    "\n",
    "if 'metric' in norm:\n",
    "    dists,locs = metric_distance(fulldat,fulldat,neighbors+1,norm)\n",
    "else:\n",
    "    dists,locs = kt.query(fulldat.T,neighbors+1)\n",
    "\n",
    "row_indices = []\n",
    "near_indices = []\n",
    "for row in range(locs.shape[0]):\n",
    "    model_index = locs[row,0]\n",
    "    pars_index = valid_pars['Index'][model_index]\n",
    "    row_indices.append([value for value in range(pars_index,pars_index+incs)])\n",
    "\n",
    "    indices = []\n",
    "    for idx in locs[row,1:]: #leave the point being checked out\n",
    "        pars_index = valid_pars['Index'][idx]\n",
    "        indices.extend(range(pars_index,pars_index+incs))\n",
    "    near_indices.append(indices)\n",
    "\n",
    "names = [name[:8] for name in valid_pars['MODEL_NAME']]\n",
    "seds = SEDCube.read(f'robitaille_models-1.2/{geometry}/flux.fits')\n",
    "row_fluxes = dict(zip(names, seds.val[np.array(row_indices),ap,wav]))\n",
    "near_fluxes = dict(zip(names, seds.val[np.array(near_indices),ap,wav]))\n",
    "#row_fluxes = {}\n",
    "#near_fluxes = {}\n",
    "# for i in tqdm(range(len(names))):\n",
    "#     row_fluxes.update({names[i]:seds.val[row_indices[i],ap,wav]})\n",
    "#     near_fluxes.update({names[i]:seds.val[near_indices[i],ap,wav]})\n",
    "# fluxtable = Table([[key for key in row_fluxes],[value for value in row_fluxes.values()],[value for value in near_fluxes.values()]],names=['Model Name','Model Fluxes','Neighbor Fluxes'])"
   ]
  },
  {
   "cell_type": "code",
   "execution_count": 8,
   "id": "1244d2ad-ab19-4dc6-a198-293270951d88",
   "metadata": {},
   "outputs": [
    {
     "data": {
      "text/plain": [
       "(8137, 10)"
      ]
     },
     "execution_count": 8,
     "metadata": {},
     "output_type": "execute_result"
    }
   ],
   "source": [
    "len(near_indices), len(near_indices[0])"
   ]
  },
  {
   "cell_type": "code",
   "execution_count": 9,
   "id": "ed02b8fa-9408-45ce-9adf-b2dc8e15073f",
   "metadata": {},
   "outputs": [
    {
     "data": {
      "text/latex": [
       "$[[{\\rm NaN},~{\\rm NaN},~{\\rm NaN},~\\dots,~{\\rm NaN},~{\\rm NaN},~{\\rm NaN}],~\n",
       " [{\\rm NaN},~{\\rm NaN},~{\\rm NaN},~\\dots,~{\\rm NaN},~{\\rm NaN},~{\\rm NaN}],~\n",
       " [0.013843965,~0.010422094,~0.019184722,~\\dots,~0.016173294,~0.0044618002,~0.010288118],~\n",
       " \\dots,~\n",
       " [25.378033,~70.624146,~63.063274,~\\dots,~80.082748,~58.148258,~81.50544],~\n",
       " [517676.19,~561710.38,~302108.88,~\\dots,~319283.19,~1015525.9,~217779.56],~\n",
       " [405873.5,~441256.81,~354285.47,~\\dots,~{\\rm NaN},~332221.03,~{\\rm NaN}]] \\; \\mathrm{mJy}$"
      ],
      "text/plain": [
       "<Quantity [[          nan,           nan,           nan, ...,\n",
       "                      nan,           nan,           nan],\n",
       "           [          nan,           nan,           nan, ...,\n",
       "                      nan,           nan,           nan],\n",
       "           [1.3843965e-02, 1.0422094e-02, 1.9184722e-02, ...,\n",
       "            1.6173294e-02, 4.4618002e-03, 1.0288118e-02],\n",
       "           ...,\n",
       "           [2.5378033e+01, 7.0624146e+01, 6.3063274e+01, ...,\n",
       "            8.0082748e+01, 5.8148258e+01, 8.1505440e+01],\n",
       "           [5.1767619e+05, 5.6171038e+05, 3.0210888e+05, ...,\n",
       "            3.1928319e+05, 1.0155259e+06, 2.1777956e+05],\n",
       "           [4.0587350e+05, 4.4125681e+05, 3.5428547e+05, ...,\n",
       "                      nan, 3.3222103e+05,           nan]] mJy>"
      ]
     },
     "execution_count": 9,
     "metadata": {},
     "output_type": "execute_result"
    }
   ],
   "source": [
    "seds.val[np.array(near_indices),ap,wav]"
   ]
  },
  {
   "cell_type": "code",
   "execution_count": 10,
   "id": "0bb0be80-c6f5-4de7-96d0-2f7c3067263c",
   "metadata": {},
   "outputs": [
    {
     "data": {
      "text/plain": [
       "(8137, 10)"
      ]
     },
     "execution_count": 10,
     "metadata": {},
     "output_type": "execute_result"
    }
   ],
   "source": [
    "seds.val[np.array(near_indices),ap,wav].shape"
   ]
  },
  {
   "cell_type": "code",
   "execution_count": 11,
   "id": "456ac3ce-ff77-487a-8c2a-e5deff752560",
   "metadata": {},
   "outputs": [],
   "source": [
    "near_fluxes = dict(zip(names, seds.val[np.array(near_indices)[:,:,None],\n",
    "                                       ap,\n",
    "                                       np.arange(200)[None,None,:]]))"
   ]
  },
  {
   "cell_type": "code",
   "execution_count": 12,
   "id": "25ac6a80-130c-4693-85af-472506528e74",
   "metadata": {},
   "outputs": [
    {
     "data": {
      "text/plain": [
       "(10, 200)"
      ]
     },
     "execution_count": 12,
     "metadata": {},
     "output_type": "execute_result"
    }
   ],
   "source": [
    "near_fluxes['01NcC57M'].shape"
   ]
  },
  {
   "cell_type": "code",
   "execution_count": 13,
   "id": "ab017c41-5646-4a83-b292-bb2a6aecd94a",
   "metadata": {},
   "outputs": [
    {
     "data": {
      "text/plain": [
       "(10000, 20, 200)"
      ]
     },
     "execution_count": 13,
     "metadata": {},
     "output_type": "execute_result"
    }
   ],
   "source": [
    "seds.val.shape"
   ]
  },
  {
   "cell_type": "markdown",
   "id": "0e08cf0c-9c95-46bf-8ef9-bd5a14b64b9b",
   "metadata": {},
   "source": [
    "# Load 2D arrays\n",
    "\n",
    "First thing to try: Predict temperature based on model parameters"
   ]
  },
  {
   "cell_type": "code",
   "execution_count": 14,
   "id": "b8fada44-7bc4-4ee4-a6c5-abb17ff016a9",
   "metadata": {},
   "outputs": [],
   "source": [
    "mod = model.ModelOutput('/blue/adamginsburg/richardson.t/research/flux/grids-1.1/spubhmi/output/0h/0hO4CPtf.rtout')"
   ]
  },
  {
   "cell_type": "code",
   "execution_count": 15,
   "id": "e086382d-cfaa-44d1-8377-7dcd2f7b80c3",
   "metadata": {},
   "outputs": [
    {
     "name": "stdout",
     "output_type": "stream",
     "text": [
      "INFO: No density present in output, reading initial density [hyperion.model.model_output]\n"
     ]
    }
   ],
   "source": [
    "qtys = mod.get_quantities()"
   ]
  },
  {
   "cell_type": "code",
   "execution_count": 16,
   "id": "55071d1b-e6a5-4245-8a64-8a76698566cd",
   "metadata": {},
   "outputs": [
    {
     "data": {
      "text/plain": [
       "(1, 300, 400)"
      ]
     },
     "execution_count": 16,
     "metadata": {},
     "output_type": "execute_result"
    }
   ],
   "source": [
    "qtys['temperature'].shape"
   ]
  },
  {
   "cell_type": "markdown",
   "id": "a8c891a0-aa90-476c-80ae-79c0bb9dfb72",
   "metadata": {},
   "source": [
    "## Make a grid of 10,000 images\n",
    "\n",
    "for now we'll limit to 1 geometry, a simple powerlaw"
   ]
  },
  {
   "cell_type": "code",
   "execution_count": 17,
   "id": "651da4bb-96af-4160-a468-0c9327df514b",
   "metadata": {},
   "outputs": [],
   "source": [
    "from tqdm.auto import tqdm"
   ]
  },
  {
   "cell_type": "code",
   "execution_count": 21,
   "id": "dccce49d-f3ab-43f3-b88f-9b9ac3199ffd",
   "metadata": {},
   "outputs": [],
   "source": [
    "rootdir = '/orange/adamginsburg/robitaille_models/ML_PPDAE/'"
   ]
  },
  {
   "cell_type": "code",
   "execution_count": 22,
   "id": "54f4af82-788f-47fd-89c8-ccadfa828ed9",
   "metadata": {},
   "outputs": [],
   "source": [
    "gridpath = f'/blue/adamginsburg/richardson.t/research/flux/grids-1.1/{geometry}/output/'"
   ]
  },
  {
   "cell_type": "code",
   "execution_count": null,
   "id": "db374216-bbb0-47f8-89c9-b7c8f34c0f38",
   "metadata": {},
   "outputs": [],
   "source": [
    "pars = Table.read(f'robitaille_models-1.2/{geometry}/augmented_parameters.fits')"
   ]
  },
  {
   "cell_type": "code",
   "execution_count": 20,
   "id": "2944bad1-cede-413f-aae5-744336b54917",
   "metadata": {},
   "outputs": [],
   "source": [
    "npars = len(pars)"
   ]
  },
  {
   "cell_type": "code",
   "execution_count": 25,
   "id": "87597540-bffa-4365-bbc5-10a146efd059",
   "metadata": {},
   "outputs": [
    {
     "name": "stdout",
     "output_type": "stream",
     "text": [
      "INFO: No density present in output, reading initial density [hyperion.model.model_output]\n"
     ]
    },
    {
     "data": {
      "text/plain": [
       "(1, 1, 400)"
      ]
     },
     "execution_count": 25,
     "metadata": {},
     "output_type": "execute_result"
    }
   ],
   "source": [
    "mn = pars['MODEL_NAME'][0]\n",
    "tem = model.ModelOutput(f'{gridpath}/{mn[:2]}/{mn[:-3]}.rtout').get_quantities()['temperature'][0].array\n",
    "tem.shape"
   ]
  },
  {
   "cell_type": "code",
   "execution_count": 26,
   "id": "901b1a66-52ba-4ad8-a28a-d5e70b9aeeb7",
   "metadata": {},
   "outputs": [
    {
     "data": {
      "text/latex": [
       "$4.8 \\; \\mathrm{Gbyte}$"
      ],
      "text/plain": [
       "<Quantity 4.8 Gbyte>"
      ]
     },
     "execution_count": 26,
     "metadata": {},
     "output_type": "execute_result"
    }
   ],
   "source": [
    "filesize = (npars * np.product(qtys['temperature'].shape) * 4 * u.byte).to(u.GB)\n",
    "filesize"
   ]
  },
  {
   "cell_type": "code",
   "execution_count": 27,
   "id": "539fbecd-503c-40a7-bf55-5bd1fdb12c46",
   "metadata": {},
   "outputs": [],
   "source": [
    "arr = np.memmap(f'{rootdir}/{geometry}_temperature_grid_for_ML.npy',\n",
    "                shape=(npars, *tem.shape),\n",
    "                mode='r+')"
   ]
  },
  {
   "cell_type": "code",
   "execution_count": 28,
   "id": "6b044346-eaa0-4427-8a9e-107b5932b667",
   "metadata": {},
   "outputs": [
    {
     "data": {
      "application/json": {
       "ascii": false,
       "bar_format": null,
       "colour": null,
       "elapsed": 0.005219697952270508,
       "initial": 0,
       "n": 0,
       "ncols": null,
       "nrows": 77,
       "postfix": null,
       "prefix": "",
       "rate": null,
       "total": null,
       "unit": "it",
       "unit_divisor": 1000,
       "unit_scale": false
      },
      "application/vnd.jupyter.widget-view+json": {
       "model_id": "be54f60830874d8f88f2e4640c03ac32",
       "version_major": 2,
       "version_minor": 0
      },
      "text/plain": [
       "0it [00:00, ?it/s]"
      ]
     },
     "metadata": {},
     "output_type": "display_data"
    }
   ],
   "source": [
    "from astropy import log\n",
    "log.setLevel(0)\n",
    "\n",
    "for ii, mn in tqdm(enumerate(pars['MODEL_NAME'])):\n",
    "    arr[ii, :, :, :] = (model\n",
    "                        .ModelOutput(f'{gridpath}/{mn[:2].lower()}/{mn[:-3]}.rtout')\n",
    "                        .get_quantities()['temperature'][0].array\n",
    "                       )\n",
    "    \n",
    "log.setLevel('INFO')"
   ]
  },
  {
   "cell_type": "markdown",
   "id": "c8a246d8-fd0d-4ef7-be39-f904ac837596",
   "metadata": {},
   "source": [
    "I tried this all the way through, and it broke because the AI model is explicitly 2D.  We could make a 1D version by modifying the models in ``ae_model_phy.py``, but that requires a lot more thought and a deeper understanding of the order of operations (it looks like there are already some 1D transformations happening), so I'm trying a 2D version first..."
   ]
  },
  {
   "cell_type": "markdown",
   "id": "fda3e903-d613-4177-9d9d-31b7c1884a8f",
   "metadata": {},
   "source": [
    "## Training setup\n",
    "\n",
    "First, we go through all the cells manually, then we set up a script so we can do this for any grid geometry we want"
   ]
  },
  {
   "cell_type": "code",
   "execution_count": 29,
   "id": "2656b700-3a7e-472e-a5a7-8fd21b1f12e6",
   "metadata": {},
   "outputs": [],
   "source": [
    "from sklearn.model_selection import train_test_split"
   ]
  },
  {
   "cell_type": "raw",
   "id": "7248f084-c09e-4756-be7e-b9965f7ad6e7",
   "metadata": {},
   "source": [
    "train_idx, test_idx = train_test_split(np.arange(meta_f1.shape[0]), \n",
    "                                       test_size=.2, random_state=99)\n",
    "train_idx.shape, test_idx.shape"
   ]
  },
  {
   "cell_type": "code",
   "execution_count": 30,
   "id": "6c19eec9-e1cc-445b-9fb2-1057a51ff878",
   "metadata": {},
   "outputs": [
    {
     "data": {
      "text/plain": [
       "((8000,), (2000,))"
      ]
     },
     "execution_count": 30,
     "metadata": {},
     "output_type": "execute_result"
    }
   ],
   "source": [
    "train_idx, test_idx = train_test_split(np.arange(len(pars)), \n",
    "                                       test_size=.2, random_state=99)\n",
    "train_idx.shape, test_idx.shape"
   ]
  },
  {
   "cell_type": "markdown",
   "id": "e41d5850-771c-44b0-b284-5d38a33effef",
   "metadata": {},
   "source": [
    "We need numerical parameters to fit.  We want the ones that matter.  For the 1d case, inclination does not, but for 2d cases, it does... kinda."
   ]
  },
  {
   "cell_type": "code",
   "execution_count": 31,
   "id": "d9aa54c8-5588-4e81-ac33-f6820de7aace",
   "metadata": {},
   "outputs": [],
   "source": [
    "parameters_to_fit = ['star.radius', 'star.temperature', 'envelope.rho_0',\n",
    " 'envelope.power', 'ambient.density', 'ambient.temperature', 'scattering',\n",
    " 'inclination', \n",
    "]"
   ]
  },
  {
   "cell_type": "code",
   "execution_count": 32,
   "id": "5d90719b-ef71-4afc-bf2f-8f3fb03b7def",
   "metadata": {
    "tags": []
   },
   "outputs": [],
   "source": [
    "pars_arrlike = np.array(pars[parameters_to_fit]).view(float).reshape(len(pars), len(parameters_to_fit))"
   ]
  },
  {
   "cell_type": "raw",
   "id": "c4ca6208-63d8-4e79-9e00-609b8416fcbd",
   "metadata": {},
   "source": [
    "# verify that the reshaping worked as expected\n",
    "pars[6], pars_arrlike[6]"
   ]
  },
  {
   "cell_type": "code",
   "execution_count": 34,
   "id": "a81a4a80-7ae9-44aa-9d8b-c7891eff1175",
   "metadata": {},
   "outputs": [],
   "source": [
    "subset_id = geometry\n",
    "np.save(f'{rootdir}/param_arr_gridandfiller_{subset_id}_train_all.npy',\n",
    "        pars_arrlike[train_idx]\n",
    "        #meta_f1.iloc[train_idx, :-1].values.astype(np.float32),\n",
    "       )\n",
    "np.save(f'{rootdir}/param_arr_gridandfiller_{subset_id}_test.npy',\n",
    "        pars_arrlike[test_idx]\n",
    "        # meta_f1.iloc[test_idx, :-1].values.astype(np.float32))\n",
    "       )"
   ]
  },
  {
   "cell_type": "code",
   "execution_count": 35,
   "id": "a0a42a75-36d2-4dd6-8101-daa4d57e366d",
   "metadata": {},
   "outputs": [],
   "source": [
    "imgs = arr\n",
    "np.save(f'{rootdir}/img_array_gridandfiller_imagenorm_{subset_id}_train_all.npy', imgs[train_idx])\n",
    "np.save(f'{rootdir}/img_array_gridandfiller_imagenorm_{subset_id}_test.npy', imgs[test_idx])"
   ]
  },
  {
   "cell_type": "code",
   "execution_count": null,
   "id": "c5cd5463-3e4c-4d24-9046-fd234e5beeb6",
   "metadata": {},
   "outputs": [],
   "source": [
    "def make_test_data(geometry, pars, imgs):\n",
    "    print(f\"Beginning setting up training data for {geometry}\")\n",
    "    train_idx, test_idx = train_test_split(np.arange(len(pars)), \n",
    "                                           test_size=.2, random_state=99)\n",
    "    \n",
    "    \n",
    "    parameters_to_fit = ['star.radius', 'star.temperature', 'envelope.rho_0',\n",
    "     'envelope.power', 'ambient.density', 'ambient.temperature', 'scattering',\n",
    "    ]\n",
    "    if imgs.shape[2] > 1:\n",
    "        # if the images are 2d\n",
    "        parameters_to_fit.append('inclination')\n",
    "        \n",
    "    pars_arrlike = np.array(pars[parameters_to_fit]).view(float).reshape(len(pars), len(parameters_to_fit))\n",
    "    np.save(f'{rootdir}/param_arr_gridandfiller_{subset_id}_train_all.npy',\n",
    "            pars_arrlike[train_idx]\n",
    "           )\n",
    "    np.save(f'{rootdir}/param_arr_gridandfiller_{subset_id}_test.npy',\n",
    "            pars_arrlike[test_idx]\n",
    "           )\n",
    "    np.save(f'{rootdir}/img_array_gridandfiller_imagenorm_{subset_id}_train_all.npy', imgs[train_idx])\n",
    "    np.save(f'{rootdir}/img_array_gridandfiller_imagenorm_{subset_id}_test.npy', imgs[test_idx])\n",
    "    print(f\"Done setting up training data for {geometry} with training shape {train_idx.shape} and testing shape {test_idx.shape}\")"
   ]
  },
  {
   "cell_type": "code",
   "execution_count": null,
   "id": "6087ec98-d207-48f7-b621-2d5ae2eef0aa",
   "metadata": {},
   "outputs": [],
   "source": [
    "make_test_data(geometry, pars, arr)"
   ]
  },
  {
   "cell_type": "markdown",
   "id": "1a68038b-6319-47e6-a5db-99fbf5136393",
   "metadata": {},
   "source": [
    "## Try a geometry that requires 2D"
   ]
  },
  {
   "cell_type": "code",
   "execution_count": 87,
   "id": "d5225094-8655-4cf9-a4a2-19e1b2d17236",
   "metadata": {},
   "outputs": [],
   "source": [
    "geometry = 'spubsmi'"
   ]
  },
  {
   "cell_type": "code",
   "execution_count": 88,
   "id": "05d20a67-db43-4ede-b431-eb5271c08f6b",
   "metadata": {},
   "outputs": [],
   "source": [
    "gridpath = f'/blue/adamginsburg/richardson.t/research/flux/grids-1.1/{geometry}/output/'"
   ]
  },
  {
   "cell_type": "code",
   "execution_count": 89,
   "id": "1853d7f8-7ced-4fcc-a3bd-b1ae649af2b9",
   "metadata": {},
   "outputs": [
    {
     "name": "stdout",
     "output_type": "stream",
     "text": [
      "/blue/adamginsburg/richardson.t/research/flux\n"
     ]
    }
   ],
   "source": [
    "cd /blue/adamginsburg/richardson.t/research/flux/"
   ]
  },
  {
   "cell_type": "code",
   "execution_count": 90,
   "id": "549c1b50-ea99-4f82-b8ac-9cd977358906",
   "metadata": {},
   "outputs": [],
   "source": [
    "pars = Table.read(f'robitaille_models-1.2/{geometry}/augmented_parameters.fits')"
   ]
  },
  {
   "cell_type": "code",
   "execution_count": 91,
   "id": "5d2124c4-ead8-4d19-a4c2-800883300d02",
   "metadata": {},
   "outputs": [
    {
     "data": {
      "text/plain": [
       "360000"
      ]
     },
     "execution_count": 91,
     "metadata": {},
     "output_type": "execute_result"
    }
   ],
   "source": [
    "npars = len(pars)\n",
    "npars"
   ]
  },
  {
   "cell_type": "code",
   "execution_count": 92,
   "id": "b251a304-8736-4462-b8be-1921fa2eaad8",
   "metadata": {},
   "outputs": [
    {
     "data": {
      "text/plain": [
       "(1, 300, 400)"
      ]
     },
     "execution_count": 92,
     "metadata": {},
     "output_type": "execute_result"
    }
   ],
   "source": [
    "mn = pars['MODEL_NAME'][0]\n",
    "tem = model.ModelOutput(f'{gridpath}/{mn[:2]}/{mn[:-3]}.rtout').get_quantities()['temperature'][0].array\n",
    "tem.shape"
   ]
  },
  {
   "cell_type": "code",
   "execution_count": 93,
   "id": "50f97147-266b-401b-aef6-ef0ec26e6b24",
   "metadata": {},
   "outputs": [
    {
     "data": {
      "text/latex": [
       "$172.8 \\; \\mathrm{Gbyte}$"
      ],
      "text/plain": [
       "<Quantity 172.8 Gbyte>"
      ]
     },
     "execution_count": 93,
     "metadata": {},
     "output_type": "execute_result"
    }
   ],
   "source": [
    "filesize = (npars * np.product(qtys['temperature'].shape) * 4 * u.byte).to(u.GB)\n",
    "filesize"
   ]
  },
  {
   "cell_type": "code",
   "execution_count": 94,
   "id": "68e1ec93-81f7-442f-9fd1-069d67c5d9fa",
   "metadata": {},
   "outputs": [],
   "source": [
    "npars = 10000"
   ]
  },
  {
   "cell_type": "code",
   "execution_count": 95,
   "id": "443bc465-559b-46ef-a43a-63902d7b178e",
   "metadata": {},
   "outputs": [
    {
     "data": {
      "text/latex": [
       "$4.8 \\; \\mathrm{Gbyte}$"
      ],
      "text/plain": [
       "<Quantity 4.8 Gbyte>"
      ]
     },
     "execution_count": 95,
     "metadata": {},
     "output_type": "execute_result"
    }
   ],
   "source": [
    "filesize = (npars * np.product(qtys['temperature'].shape) * 4 * u.byte).to(u.GB)\n",
    "filesize"
   ]
  },
  {
   "cell_type": "code",
   "execution_count": 97,
   "id": "0329a5f7-b1f7-42d0-ad52-b6c04734db6f",
   "metadata": {},
   "outputs": [],
   "source": [
    "arr = np.memmap(f'{rootdir}/{geometry}_temperature_grid_for_ML.npy',\n",
    "                shape=(npars, *tem.shape),\n",
    "                mode='w+')"
   ]
  },
  {
   "cell_type": "code",
   "execution_count": null,
   "id": "9c672ce3-7af3-4186-8177-5370d1b964cc",
   "metadata": {},
   "outputs": [
    {
     "data": {
      "application/json": {
       "ascii": false,
       "bar_format": null,
       "colour": null,
       "elapsed": 0.004930734634399414,
       "initial": 0,
       "n": 0,
       "ncols": null,
       "nrows": 77,
       "postfix": null,
       "prefix": "",
       "rate": null,
       "total": null,
       "unit": "it",
       "unit_divisor": 1000,
       "unit_scale": false
      },
      "application/vnd.jupyter.widget-view+json": {
       "model_id": "1c5d9f95f1ce4b7eb620653d736e2c81",
       "version_major": 2,
       "version_minor": 0
      },
      "text/plain": [
       "0it [00:00, ?it/s]"
      ]
     },
     "metadata": {},
     "output_type": "display_data"
    }
   ],
   "source": [
    "from astropy import log\n",
    "log.setLevel(0)\n",
    "\n",
    "for ii, mn in tqdm(enumerate(pars['MODEL_NAME'][:npars])):\n",
    "    arr[ii, :, :, :] = (model\n",
    "                        .ModelOutput(f'{gridpath}/{mn[:2].lower()}/{mn[:-3]}.rtout')\n",
    "                        .get_quantities()['temperature'][0].array\n",
    "                       )\n",
    "    \n",
    "log.setLevel('INFO')"
   ]
  },
  {
   "cell_type": "code",
   "execution_count": null,
   "id": "87bb14af-4966-48e2-b19f-4cd3a7641871",
   "metadata": {},
   "outputs": [],
   "source": [
    "make_test_data(geometry, pars, arr)"
   ]
  },
  {
   "cell_type": "markdown",
   "id": "05f28774-5885-4660-a009-7748e5f3c9c7",
   "metadata": {},
   "source": [
    "# Following PPDAE Data Exploration notebook\n"
   ]
  },
  {
   "cell_type": "markdown",
   "id": "aad36129-4390-46f7-8df2-6c57e851b154",
   "metadata": {},
   "source": [
    "# Do the training?\n",
    "\n",
    "but don't use the script, instead use pieces grabbed from it - will reconstruct script later...\n",
    "\n",
    "the script wasn't packaged right so it can't run easily..."
   ]
  },
  {
   "cell_type": "code",
   "execution_count": 39,
   "id": "98c37893-ce54-4910-b97f-1746579705f4",
   "metadata": {},
   "outputs": [
    {
     "name": "stdout",
     "output_type": "stream",
     "text": [
      "usage: ae_main.py [-h] [--dry-run] [--machine MACHINE] [--data DATA]\n",
      "                  [--img-norm IMG_NORM] [--par-norm PAR_NORM]\n",
      "                  [--subset SUBSET] [--optim OPTIM] [--lr LR]\n",
      "                  [--lr-sch LR_SCH] [--loss-fx LOSS_FX]\n",
      "                  [--batch-size BATCH_SIZE] [--num-epochs NUM_EPOCHS]\n",
      "                  [--early-stop] [--cond COND] [--feed-phy FEED_PHY]\n",
      "                  [--latent-dim LATENT_DIM] [--dropout DROPOUT]\n",
      "                  [--kernel-size KERNEL_SIZE] [--conv-blocks CONV_BLOCKS]\n",
      "                  [--model-name MODEL_NAME] [--comment COMMENT]\n",
      "\n",
      "AutoEncoder\n",
      "\n",
      "optional arguments:\n",
      "  -h, --help            show this help message and exit\n",
      "  --dry-run             Load data and initialize models [False]\n",
      "  --machine MACHINE     were to is running (local, colab, exalearn, hpg)\n",
      "  --data DATA           data used for training ([Robitaille], MNIST, PPD)\n",
      "  --img-norm IMG_NORM   type of normalization for images (global, [image])\n",
      "  --par-norm PAR_NORM   physical parameters are 0-1 scaled ([T],F)\n",
      "  --subset SUBSET       data subset ([25052021], fexp1)\n",
      "  --optim OPTIM         Optimizer ([Adam], SGD)\n",
      "  --lr LR               learning rate [1e-4]\n",
      "  --lr-sch LR_SCH       learning rate shceduler ([None], step, exp, cosine,\n",
      "                        plateau)\n",
      "  --loss-fx LOSS_FX     Loss function ([bce], mse)\n",
      "  --batch-size BATCH_SIZE\n",
      "                        batch size [128]\n",
      "  --num-epochs NUM_EPOCHS\n",
      "                        total number of training epochs [100]\n",
      "  --early-stop          Early stoping\n",
      "  --cond COND           physics conditioned AE (F,[T])\n",
      "  --feed-phy FEED_PHY   feed physics to decoder ([F],T)\n",
      "  --latent-dim LATENT_DIM\n",
      "                        dimension of latent space [8]\n",
      "  --dropout DROPOUT     dropout for all layers [0.2]\n",
      "  --kernel-size KERNEL_SIZE\n",
      "                        2D conv kernel size, encoder [3]\n",
      "  --conv-blocks CONV_BLOCKS\n",
      "                        conv+actfx+pool blocks [5]\n",
      "  --model-name MODEL_NAME\n",
      "                        name of model [ConvLinTrans_AE]\n",
      "  --comment COMMENT     extra comments\n"
     ]
    }
   ],
   "source": [
    "%run $rootdir/PPDAE/ppdae/scripts/ae_main.py --help"
   ]
  },
  {
   "cell_type": "code",
   "execution_count": 42,
   "id": "5721a7fa-e824-411e-95b2-231e3150534e",
   "metadata": {},
   "outputs": [
    {
     "name": "stdout",
     "output_type": "stream",
     "text": [
      "/orange/adamginsburg/robitaille_models/ML_PPDAE\n"
     ]
    }
   ],
   "source": [
    "cd $rootdir"
   ]
  },
  {
   "cell_type": "code",
   "execution_count": 44,
   "id": "73fb6050-becd-49ea-b931-be857aa3decd",
   "metadata": {},
   "outputs": [
    {
     "name": "stderr",
     "output_type": "stream",
     "text": [
      "\u001b[34m\u001b[1mwandb\u001b[0m: You can find your API key in your browser here: https://wandb.ai/authorize\n"
     ]
    },
    {
     "name": "stdin",
     "output_type": "stream",
     "text": [
      "\u001b[34m\u001b[1mwandb\u001b[0m: Paste an API key from your profile and hit enter:  ········\n"
     ]
    },
    {
     "name": "stderr",
     "output_type": "stream",
     "text": [
      "\u001b[34m\u001b[1mwandb\u001b[0m: Appending key for api.wandb.ai to your netrc file: /home/adamginsburg/.netrc\n"
     ]
    },
    {
     "data": {
      "text/plain": [
       "True"
      ]
     },
     "execution_count": 44,
     "metadata": {},
     "output_type": "execute_result"
    }
   ],
   "source": [
    "import wandb\n",
    "wandb.login(relogin=True)"
   ]
  },
  {
   "cell_type": "code",
   "execution_count": 48,
   "id": "fb1c8fc3-51cc-4912-af6a-98736bca5643",
   "metadata": {},
   "outputs": [
    {
     "data": {
      "text/html": [
       "Finishing last run (ID:2wvhkulz) before initializing another..."
      ],
      "text/plain": [
       "<IPython.core.display.HTML object>"
      ]
     },
     "metadata": {},
     "output_type": "display_data"
    },
    {
     "data": {
      "text/html": [
       "<br/>Waiting for W&B process to finish, PID 21292<br/>Program ended successfully."
      ],
      "text/plain": [
       "<IPython.core.display.HTML object>"
      ]
     },
     "metadata": {},
     "output_type": "display_data"
    },
    {
     "data": {
      "application/vnd.jupyter.widget-view+json": {
       "model_id": "",
       "version_major": 2,
       "version_minor": 0
      },
      "text/plain": [
       "VBox(children=(Label(value=' 0.00MB of 0.00MB uploaded (0.00MB deduped)\\r'), FloatProgress(value=1.0, max=1.0)…"
      ]
     },
     "metadata": {},
     "output_type": "display_data"
    },
    {
     "data": {
      "text/html": [
       "Find user logs for this run at: <code>/orange/adamginsburg/robitaille_models/ML_PPDAE/wandb/run-20230812_163843-2wvhkulz/logs/debug.log</code>"
      ],
      "text/plain": [
       "<IPython.core.display.HTML object>"
      ]
     },
     "metadata": {},
     "output_type": "display_data"
    },
    {
     "data": {
      "text/html": [
       "Find internal logs for this run at: <code>/orange/adamginsburg/robitaille_models/ML_PPDAE/wandb/run-20230812_163843-2wvhkulz/logs/debug-internal.log</code>"
      ],
      "text/plain": [
       "<IPython.core.display.HTML object>"
      ]
     },
     "metadata": {},
     "output_type": "display_data"
    },
    {
     "data": {
      "text/html": [
       "Synced 5 W&B file(s), 0 media file(s), 0 artifact file(s) and 0 other file(s)"
      ],
      "text/plain": [
       "<IPython.core.display.HTML object>"
      ]
     },
     "metadata": {},
     "output_type": "display_data"
    },
    {
     "data": {
      "text/html": [
       "\n",
       "                    <br/>Synced <strong style=\"color:#cdcd00\">lemon-sound-1</strong>: <a href=\"https://wandb.ai/ufsf/ppdae/runs/2wvhkulz\" target=\"_blank\">https://wandb.ai/ufsf/ppdae/runs/2wvhkulz</a><br/>\n",
       "                "
      ],
      "text/plain": [
       "<IPython.core.display.HTML object>"
      ]
     },
     "metadata": {},
     "output_type": "display_data"
    },
    {
     "data": {
      "text/html": [
       "...Successfully finished last run (ID:2wvhkulz). Initializing new run:<br/><br/>"
      ],
      "text/plain": [
       "<IPython.core.display.HTML object>"
      ]
     },
     "metadata": {},
     "output_type": "display_data"
    },
    {
     "name": "stderr",
     "output_type": "stream",
     "text": [
      "\u001b[34m\u001b[1mwandb\u001b[0m: wandb version 0.15.8 is available!  To upgrade, please run:\n",
      "\u001b[34m\u001b[1mwandb\u001b[0m:  $ pip install wandb --upgrade\n"
     ]
    },
    {
     "data": {
      "text/html": [
       "\n",
       "                Tracking run with wandb version 0.10.33<br/>\n",
       "                Syncing run <strong style=\"color:#cdcd00\">amber-elevator-2</strong> to <a href=\"https://wandb.ai\" target=\"_blank\">Weights & Biases</a> <a href=\"https://docs.wandb.com/integrations/jupyter.html\" target=\"_blank\">(Documentation)</a>.<br/>\n",
       "                Project page: <a href=\"https://wandb.ai/ufsf/ppdae\" target=\"_blank\">https://wandb.ai/ufsf/ppdae</a><br/>\n",
       "                Run page: <a href=\"https://wandb.ai/ufsf/ppdae/runs/3fvy9yb0\" target=\"_blank\">https://wandb.ai/ufsf/ppdae/runs/3fvy9yb0</a><br/>\n",
       "                Run data is saved locally in <code>/orange/adamginsburg/robitaille_models/ML_PPDAE/wandb/run-20230812_164022-3fvy9yb0</code><br/><br/>\n",
       "            "
      ],
      "text/plain": [
       "<IPython.core.display.HTML object>"
      ]
     },
     "metadata": {},
     "output_type": "display_data"
    },
    {
     "data": {
      "text/html": [
       "<h1>Run(3fvy9yb0)</h1><iframe src=\"https://wandb.ai/ufsf/ppdae/runs/3fvy9yb0\" style=\"border:none;width:100%;height:400px\"></iframe>"
      ],
      "text/plain": [
       "<wandb.sdk.wandb_run.Run at 0x2b6b9433ca90>"
      ]
     },
     "execution_count": 48,
     "metadata": {},
     "output_type": "execute_result"
    }
   ],
   "source": [
    "wandb.init(project='ppdae', entity='ufsf')"
   ]
  },
  {
   "cell_type": "code",
   "execution_count": 53,
   "id": "3c6df7df-df0b-431b-8ebc-4be8ccb5fd2f",
   "metadata": {},
   "outputs": [
    {
     "data": {
      "text/plain": [
       "<module 'ppdae.dataset_large' from '/orange/adamginsburg/robitaille_models/ML_PPDAE/PPDAE/ppdae/dataset_large.py'>"
      ]
     },
     "execution_count": 53,
     "metadata": {},
     "output_type": "execute_result"
    }
   ],
   "source": [
    "import importlib as imp\n",
    "import ppdae.dataset_large\n",
    "imp.reload(ppdae.dataset_large)"
   ]
  },
  {
   "cell_type": "code",
   "execution_count": 54,
   "id": "83281e8f-e4db-4aa7-84d4-ab6cd17cf2ae",
   "metadata": {},
   "outputs": [
    {
     "name": "stdout",
     "output_type": "stream",
     "text": [
      "Running in:  hpg \n",
      "\n",
      "        dry_run\t: True\n",
      "        machine\t: hpg\n",
      "           data\t: Robitaille\n",
      "       img_norm\t: image\n",
      "       par_norm\t: T\n",
      "         subset\t: 25052021\n",
      "          optim\t: Adam\n",
      "             lr\t: 0.0001\n",
      "         lr_sch\t: None\n",
      "        loss_fx\t: bce\n",
      "     batch_size\t: 128\n",
      "     num_epochs\t: 100\n",
      "     early_stop\t: False\n",
      "           cond\t: T\n",
      "       feed_phy\t: F\n",
      "     latent_dim\t: 16\n",
      "        dropout\t: 0.2\n",
      "    kernel_size\t: 3\n",
      "    conv_blocks\t: 5\n",
      "     model_name\t: ConvLinTrans_AE\n",
      "         entity\t: ufsf\n",
      "        comment\t: \n",
      "Using device cpu\n",
      "Dataset size:  10000\n"
     ]
    },
    {
     "data": {
      "text/html": [
       "Finishing last run (ID:3fvy9yb0) before initializing another..."
      ],
      "text/plain": [
       "<IPython.core.display.HTML object>"
      ]
     },
     "metadata": {},
     "output_type": "display_data"
    },
    {
     "data": {
      "text/html": [
       "<br/>Waiting for W&B process to finish, PID 24072<br/>Program ended successfully."
      ],
      "text/plain": [
       "<IPython.core.display.HTML object>"
      ]
     },
     "metadata": {},
     "output_type": "display_data"
    },
    {
     "data": {
      "application/vnd.jupyter.widget-view+json": {
       "model_id": "",
       "version_major": 2,
       "version_minor": 0
      },
      "text/plain": [
       "VBox(children=(Label(value=' 0.00MB of 0.00MB uploaded (0.00MB deduped)\\r'), FloatProgress(value=1.0, max=1.0)…"
      ]
     },
     "metadata": {},
     "output_type": "display_data"
    },
    {
     "data": {
      "text/html": [
       "Find user logs for this run at: <code>/orange/adamginsburg/robitaille_models/ML_PPDAE/wandb/run-20230812_164022-3fvy9yb0/logs/debug.log</code>"
      ],
      "text/plain": [
       "<IPython.core.display.HTML object>"
      ]
     },
     "metadata": {},
     "output_type": "display_data"
    },
    {
     "data": {
      "text/html": [
       "Find internal logs for this run at: <code>/orange/adamginsburg/robitaille_models/ML_PPDAE/wandb/run-20230812_164022-3fvy9yb0/logs/debug-internal.log</code>"
      ],
      "text/plain": [
       "<IPython.core.display.HTML object>"
      ]
     },
     "metadata": {},
     "output_type": "display_data"
    },
    {
     "data": {
      "text/html": [
       "Synced 5 W&B file(s), 0 media file(s), 0 artifact file(s) and 0 other file(s)"
      ],
      "text/plain": [
       "<IPython.core.display.HTML object>"
      ]
     },
     "metadata": {},
     "output_type": "display_data"
    },
    {
     "data": {
      "text/html": [
       "\n",
       "                    <br/>Synced <strong style=\"color:#cdcd00\">amber-elevator-2</strong>: <a href=\"https://wandb.ai/ufsf/ppdae/runs/3fvy9yb0\" target=\"_blank\">https://wandb.ai/ufsf/ppdae/runs/3fvy9yb0</a><br/>\n",
       "                "
      ],
      "text/plain": [
       "<IPython.core.display.HTML object>"
      ]
     },
     "metadata": {},
     "output_type": "display_data"
    },
    {
     "data": {
      "text/html": [
       "...Successfully finished last run (ID:3fvy9yb0). Initializing new run:<br/><br/>"
      ],
      "text/plain": [
       "<IPython.core.display.HTML object>"
      ]
     },
     "metadata": {},
     "output_type": "display_data"
    },
    {
     "name": "stderr",
     "output_type": "stream",
     "text": [
      "\u001b[34m\u001b[1mwandb\u001b[0m: wandb version 0.15.8 is available!  To upgrade, please run:\n",
      "\u001b[34m\u001b[1mwandb\u001b[0m:  $ pip install wandb --upgrade\n"
     ]
    },
    {
     "data": {
      "text/html": [
       "\n",
       "                Tracking run with wandb version 0.10.33<br/>\n",
       "                Syncing run <strong style=\"color:#cdcd00\">jolly-pyramid-3</strong> to <a href=\"https://wandb.ai\" target=\"_blank\">Weights & Biases</a> <a href=\"https://docs.wandb.com/integrations/jupyter.html\" target=\"_blank\">(Documentation)</a>.<br/>\n",
       "                Project page: <a href=\"https://wandb.ai/ufsf/ppdae\" target=\"_blank\">https://wandb.ai/ufsf/ppdae</a><br/>\n",
       "                Run page: <a href=\"https://wandb.ai/ufsf/ppdae/runs/2r40ab74\" target=\"_blank\">https://wandb.ai/ufsf/ppdae/runs/2r40ab74</a><br/>\n",
       "                Run data is saved locally in <code>/orange/adamginsburg/robitaille_models/ML_PPDAE/wandb/run-20230812_164217-2r40ab74</code><br/><br/>\n",
       "            "
      ],
      "text/plain": [
       "<IPython.core.display.HTML object>"
      ]
     },
     "metadata": {},
     "output_type": "display_data"
    },
    {
     "name": "stdout",
     "output_type": "stream",
     "text": [
      "Physic dimension:  7\n",
      "Summary:\n",
      "ConvLinTrans_AE(\n",
      "  (enc_conv_blocks): Sequential(\n",
      "    (conv2d_11): Conv2d(1, 2, kernel_size=(3, 3), stride=(1, 1), bias=False)\n",
      "    (bn_11): BatchNorm2d(2, eps=1e-05, momentum=0.005, affine=True, track_running_stats=True)\n",
      "    (relu_11): ReLU()\n",
      "    (conv2d_12): Conv2d(2, 2, kernel_size=(3, 3), stride=(1, 1), bias=False)\n",
      "    (bn_12): BatchNorm2d(2, eps=1e-05, momentum=0.005, affine=True, track_running_stats=True)\n",
      "    (relu_12): ReLU()\n",
      "    (maxpool_1): MaxPool2d(kernel_size=2, stride=2, padding=0, dilation=1, ceil_mode=False)\n",
      "    (conv2d_21): Conv2d(2, 4, kernel_size=(3, 3), stride=(1, 1), bias=False)\n",
      "    (bn_21): BatchNorm2d(4, eps=1e-05, momentum=0.005, affine=True, track_running_stats=True)\n",
      "    (relu_21): ReLU()\n",
      "    (conv2d_22): Conv2d(4, 4, kernel_size=(3, 3), stride=(1, 1), bias=False)\n",
      "    (bn_22): BatchNorm2d(4, eps=1e-05, momentum=0.005, affine=True, track_running_stats=True)\n",
      "    (relu_22): ReLU()\n",
      "    (maxpool_2): MaxPool2d(kernel_size=2, stride=2, padding=0, dilation=1, ceil_mode=False)\n",
      "    (conv2d_31): Conv2d(4, 8, kernel_size=(3, 3), stride=(1, 1), bias=False)\n",
      "    (bn_31): BatchNorm2d(8, eps=1e-05, momentum=0.005, affine=True, track_running_stats=True)\n",
      "    (relu_31): ReLU()\n",
      "    (conv2d_32): Conv2d(8, 8, kernel_size=(3, 3), stride=(1, 1), bias=False)\n",
      "    (bn_32): BatchNorm2d(8, eps=1e-05, momentum=0.005, affine=True, track_running_stats=True)\n",
      "    (relu_32): ReLU()\n",
      "    (maxpool_3): MaxPool2d(kernel_size=2, stride=2, padding=0, dilation=1, ceil_mode=False)\n",
      "    (conv2d_41): Conv2d(8, 16, kernel_size=(3, 3), stride=(1, 1), bias=False)\n",
      "    (bn_41): BatchNorm2d(16, eps=1e-05, momentum=0.005, affine=True, track_running_stats=True)\n",
      "    (relu_41): ReLU()\n",
      "    (conv2d_42): Conv2d(16, 16, kernel_size=(3, 3), stride=(1, 1), bias=False)\n",
      "    (bn_42): BatchNorm2d(16, eps=1e-05, momentum=0.005, affine=True, track_running_stats=True)\n",
      "    (relu_42): ReLU()\n",
      "    (maxpool_4): MaxPool2d(kernel_size=2, stride=2, padding=0, dilation=1, ceil_mode=False)\n",
      "    (conv2d_51): Conv2d(16, 32, kernel_size=(3, 3), stride=(1, 1), bias=False)\n",
      "    (bn_51): BatchNorm2d(32, eps=1e-05, momentum=0.005, affine=True, track_running_stats=True)\n",
      "    (relu_51): ReLU()\n",
      "    (conv2d_52): Conv2d(32, 32, kernel_size=(3, 3), stride=(1, 1), bias=False)\n",
      "    (bn_52): BatchNorm2d(32, eps=1e-05, momentum=0.005, affine=True, track_running_stats=True)\n",
      "    (relu_52): ReLU()\n",
      "    (maxpool_5): MaxPool2d(kernel_size=2, stride=2, padding=0, dilation=1, ceil_mode=False)\n",
      "  )\n",
      "  (enc_linear): Sequential(\n",
      "    (0): Linear(in_features=2055, out_features=128, bias=False)\n",
      "    (1): BatchNorm1d(128, eps=1e-05, momentum=0.1, affine=True, track_running_stats=True)\n",
      "    (2): ReLU()\n",
      "    (3): Linear(in_features=128, out_features=16, bias=True)\n",
      "  )\n",
      "  (dec_linear): Sequential(\n",
      "    (0): Linear(in_features=16, out_features=128, bias=False)\n",
      "    (1): BatchNorm1d(128, eps=1e-05, momentum=0.1, affine=True, track_running_stats=True)\n",
      "    (2): ReLU()\n",
      "    (3): Dropout(p=0.2, inplace=False)\n",
      "    (4): Linear(in_features=128, out_features=256, bias=False)\n",
      "    (5): BatchNorm1d(256, eps=1e-05, momentum=0.1, affine=True, track_running_stats=True)\n",
      "    (6): ReLU()\n",
      "    (7): Dropout(p=0.2, inplace=False)\n",
      "    (8): Linear(in_features=256, out_features=1024, bias=False)\n",
      "    (9): BatchNorm1d(1024, eps=1e-05, momentum=0.1, affine=True, track_running_stats=True)\n",
      "    (10): ReLU()\n",
      "    (11): Dropout(p=0.2, inplace=False)\n",
      "    (12): Linear(in_features=1024, out_features=4096, bias=False)\n",
      "    (13): ReLU()\n",
      "  )\n",
      "  (dec_transconv): Sequential(\n",
      "    (0): ConvTranspose2d(16, 16, kernel_size=(4, 4), stride=(2, 2), output_padding=(1, 1), bias=False)\n",
      "    (1): Conv2d(16, 16, kernel_size=(4, 4), stride=(1, 1), bias=False)\n",
      "    (2): BatchNorm2d(16, eps=1e-05, momentum=0.005, affine=True, track_running_stats=True)\n",
      "    (3): ReLU()\n",
      "    (4): Conv2d(16, 8, kernel_size=(4, 4), stride=(1, 1), bias=False)\n",
      "    (5): BatchNorm2d(8, eps=1e-05, momentum=0.005, affine=True, track_running_stats=True)\n",
      "    (6): ReLU()\n",
      "    (7): ConvTranspose2d(8, 8, kernel_size=(4, 4), stride=(2, 2), output_padding=(1, 1), bias=False)\n",
      "    (8): Conv2d(8, 8, kernel_size=(4, 4), stride=(1, 1), bias=False)\n",
      "    (9): BatchNorm2d(8, eps=1e-05, momentum=0.005, affine=True, track_running_stats=True)\n",
      "    (10): ReLU()\n",
      "    (11): Conv2d(8, 4, kernel_size=(4, 4), stride=(1, 1), bias=False)\n",
      "    (12): BatchNorm2d(4, eps=1e-05, momentum=0.005, affine=True, track_running_stats=True)\n",
      "    (13): ReLU()\n",
      "    (14): ConvTranspose2d(4, 4, kernel_size=(4, 4), stride=(2, 2), output_padding=(1, 1), bias=False)\n",
      "    (15): Conv2d(4, 4, kernel_size=(4, 4), stride=(1, 1), bias=False)\n",
      "    (16): BatchNorm2d(4, eps=1e-05, momentum=0.005, affine=True, track_running_stats=True)\n",
      "    (17): ReLU()\n",
      "    (18): Conv2d(4, 4, kernel_size=(4, 4), stride=(1, 1), bias=False)\n",
      "    (19): BatchNorm2d(4, eps=1e-05, momentum=0.005, affine=True, track_running_stats=True)\n",
      "    (20): ReLU()\n",
      "    (21): ConvTranspose2d(4, 4, kernel_size=(4, 4), stride=(2, 2), output_padding=(1, 1), bias=False)\n",
      "    (22): Conv2d(4, 4, kernel_size=(4, 4), stride=(1, 1), bias=False)\n",
      "    (23): BatchNorm2d(4, eps=1e-05, momentum=0.005, affine=True, track_running_stats=True)\n",
      "    (24): ReLU()\n",
      "    (25): Conv2d(4, 1, kernel_size=(7, 7), stride=(1, 1))\n",
      "    (26): Sigmoid()\n",
      "  )\n",
      ")\n",
      "Num of trainable params:  4792475\n",
      "\n",
      "\n",
      "Optimizer    : Adam (\n",
      "Parameter Group 0\n",
      "    amsgrad: False\n",
      "    betas: (0.9, 0.999)\n",
      "    capturable: False\n",
      "    differentiable: False\n",
      "    eps: 1e-08\n",
      "    foreach: None\n",
      "    fused: False\n",
      "    lr: 0.0001\n",
      "    maximize: False\n",
      "    weight_decay: 1e-06\n",
      ")\n",
      "LR Scheduler : NoneType\n",
      "########################################\n",
      "########  Running in  cpu  #########\n",
      "########################################\n",
      "Is model in cuda?  False\n",
      "******** DRY RUN ******** \n"
     ]
    },
    {
     "name": "stderr",
     "output_type": "stream",
     "text": [
      "\n",
      "CondaError: Expected exactly one `egg-info` directory in '/blue/adamginsburg/adamginsburg/repos/image_tools', via egg-link 'lib/python3.9/site-packages/UNKNOWN.egg-link'. Instead found: ('image_tools.egg-info', 'UNKNOWN.egg-info').  These are often left over from legacy operations that did not clean up correctly.  Please remove all but one of these.\n",
      "\n"
     ]
    }
   ],
   "source": [
    "%run $rootdir/PPDAE/ppdae/scripts/ae_main.py --latent-dim 16 --batch-size 128 --machine hpg --data Robitaille --dry-run"
   ]
  },
  {
   "cell_type": "markdown",
   "id": "ed7b6f6f-d398-42c5-845a-5748c84782b1",
   "metadata": {},
   "source": [
    "## This example fails because our data are only 1D"
   ]
  },
  {
   "cell_type": "code",
   "execution_count": 56,
   "id": "b06eb56a-c56b-4e00-be20-f683b0c425b3",
   "metadata": {},
   "outputs": [
    {
     "name": "stdout",
     "output_type": "stream",
     "text": [
      "Running in:  hpg \n",
      "\n",
      "        dry_run\t: False\n",
      "        machine\t: hpg\n",
      "           data\t: Robitaille\n",
      "       img_norm\t: image\n",
      "       par_norm\t: T\n",
      "         subset\t: 25052021\n",
      "          optim\t: Adam\n",
      "             lr\t: 0.0001\n",
      "         lr_sch\t: None\n",
      "        loss_fx\t: bce\n",
      "     batch_size\t: 128\n",
      "     num_epochs\t: 100\n",
      "     early_stop\t: False\n",
      "           cond\t: T\n",
      "       feed_phy\t: F\n",
      "     latent_dim\t: 16\n",
      "        dropout\t: 0.2\n",
      "    kernel_size\t: 3\n",
      "    conv_blocks\t: 5\n",
      "     model_name\t: ConvLinTrans_AE\n",
      "         entity\t: ufsf\n",
      "        comment\t: \n",
      "Using device cpu\n",
      "Dataset size:  10000\n"
     ]
    },
    {
     "data": {
      "text/html": [
       "Finishing last run (ID:20g1xcu2) before initializing another..."
      ],
      "text/plain": [
       "<IPython.core.display.HTML object>"
      ]
     },
     "metadata": {},
     "output_type": "display_data"
    },
    {
     "data": {
      "text/html": [
       "<br/>Waiting for W&B process to finish, PID 28370<br/>Program ended successfully."
      ],
      "text/plain": [
       "<IPython.core.display.HTML object>"
      ]
     },
     "metadata": {},
     "output_type": "display_data"
    },
    {
     "data": {
      "application/vnd.jupyter.widget-view+json": {
       "model_id": "",
       "version_major": 2,
       "version_minor": 0
      },
      "text/plain": [
       "VBox(children=(Label(value=' 0.00MB of 0.00MB uploaded (0.00MB deduped)\\r'), FloatProgress(value=1.0, max=1.0)…"
      ]
     },
     "metadata": {},
     "output_type": "display_data"
    },
    {
     "data": {
      "text/html": [
       "Find user logs for this run at: <code>/orange/adamginsburg/robitaille_models/ML_PPDAE/wandb/run-20230812_164325-20g1xcu2/logs/debug.log</code>"
      ],
      "text/plain": [
       "<IPython.core.display.HTML object>"
      ]
     },
     "metadata": {},
     "output_type": "display_data"
    },
    {
     "data": {
      "text/html": [
       "Find internal logs for this run at: <code>/orange/adamginsburg/robitaille_models/ML_PPDAE/wandb/run-20230812_164325-20g1xcu2/logs/debug-internal.log</code>"
      ],
      "text/plain": [
       "<IPython.core.display.HTML object>"
      ]
     },
     "metadata": {},
     "output_type": "display_data"
    },
    {
     "data": {
      "text/html": [
       "Synced 5 W&B file(s), 0 media file(s), 0 artifact file(s) and 0 other file(s)"
      ],
      "text/plain": [
       "<IPython.core.display.HTML object>"
      ]
     },
     "metadata": {},
     "output_type": "display_data"
    },
    {
     "data": {
      "text/html": [
       "\n",
       "                    <br/>Synced <strong style=\"color:#cdcd00\">lyric-flower-4</strong>: <a href=\"https://wandb.ai/ufsf/ppdae/runs/20g1xcu2\" target=\"_blank\">https://wandb.ai/ufsf/ppdae/runs/20g1xcu2</a><br/>\n",
       "                "
      ],
      "text/plain": [
       "<IPython.core.display.HTML object>"
      ]
     },
     "metadata": {},
     "output_type": "display_data"
    },
    {
     "data": {
      "text/html": [
       "...Successfully finished last run (ID:20g1xcu2). Initializing new run:<br/><br/>"
      ],
      "text/plain": [
       "<IPython.core.display.HTML object>"
      ]
     },
     "metadata": {},
     "output_type": "display_data"
    },
    {
     "name": "stderr",
     "output_type": "stream",
     "text": [
      "\u001b[34m\u001b[1mwandb\u001b[0m: wandb version 0.15.8 is available!  To upgrade, please run:\n",
      "\u001b[34m\u001b[1mwandb\u001b[0m:  $ pip install wandb --upgrade\n"
     ]
    },
    {
     "data": {
      "text/html": [
       "\n",
       "                Tracking run with wandb version 0.10.33<br/>\n",
       "                Syncing run <strong style=\"color:#cdcd00\">trim-surf-5</strong> to <a href=\"https://wandb.ai\" target=\"_blank\">Weights & Biases</a> <a href=\"https://docs.wandb.com/integrations/jupyter.html\" target=\"_blank\">(Documentation)</a>.<br/>\n",
       "                Project page: <a href=\"https://wandb.ai/ufsf/ppdae\" target=\"_blank\">https://wandb.ai/ufsf/ppdae</a><br/>\n",
       "                Run page: <a href=\"https://wandb.ai/ufsf/ppdae/runs/2cxm6fkw\" target=\"_blank\">https://wandb.ai/ufsf/ppdae/runs/2cxm6fkw</a><br/>\n",
       "                Run data is saved locally in <code>/orange/adamginsburg/robitaille_models/ML_PPDAE/wandb/run-20230812_164643-2cxm6fkw</code><br/><br/>\n",
       "            "
      ],
      "text/plain": [
       "<IPython.core.display.HTML object>"
      ]
     },
     "metadata": {},
     "output_type": "display_data"
    },
    {
     "name": "stdout",
     "output_type": "stream",
     "text": [
      "Physic dimension:  7\n",
      "Summary:\n",
      "ConvLinTrans_AE(\n",
      "  (enc_conv_blocks): Sequential(\n",
      "    (conv2d_11): Conv2d(1, 2, kernel_size=(3, 3), stride=(1, 1), bias=False)\n",
      "    (bn_11): BatchNorm2d(2, eps=1e-05, momentum=0.005, affine=True, track_running_stats=True)\n",
      "    (relu_11): ReLU()\n",
      "    (conv2d_12): Conv2d(2, 2, kernel_size=(3, 3), stride=(1, 1), bias=False)\n",
      "    (bn_12): BatchNorm2d(2, eps=1e-05, momentum=0.005, affine=True, track_running_stats=True)\n",
      "    (relu_12): ReLU()\n",
      "    (maxpool_1): MaxPool2d(kernel_size=2, stride=2, padding=0, dilation=1, ceil_mode=False)\n",
      "    (conv2d_21): Conv2d(2, 4, kernel_size=(3, 3), stride=(1, 1), bias=False)\n",
      "    (bn_21): BatchNorm2d(4, eps=1e-05, momentum=0.005, affine=True, track_running_stats=True)\n",
      "    (relu_21): ReLU()\n",
      "    (conv2d_22): Conv2d(4, 4, kernel_size=(3, 3), stride=(1, 1), bias=False)\n",
      "    (bn_22): BatchNorm2d(4, eps=1e-05, momentum=0.005, affine=True, track_running_stats=True)\n",
      "    (relu_22): ReLU()\n",
      "    (maxpool_2): MaxPool2d(kernel_size=2, stride=2, padding=0, dilation=1, ceil_mode=False)\n",
      "    (conv2d_31): Conv2d(4, 8, kernel_size=(3, 3), stride=(1, 1), bias=False)\n",
      "    (bn_31): BatchNorm2d(8, eps=1e-05, momentum=0.005, affine=True, track_running_stats=True)\n",
      "    (relu_31): ReLU()\n",
      "    (conv2d_32): Conv2d(8, 8, kernel_size=(3, 3), stride=(1, 1), bias=False)\n",
      "    (bn_32): BatchNorm2d(8, eps=1e-05, momentum=0.005, affine=True, track_running_stats=True)\n",
      "    (relu_32): ReLU()\n",
      "    (maxpool_3): MaxPool2d(kernel_size=2, stride=2, padding=0, dilation=1, ceil_mode=False)\n",
      "    (conv2d_41): Conv2d(8, 16, kernel_size=(3, 3), stride=(1, 1), bias=False)\n",
      "    (bn_41): BatchNorm2d(16, eps=1e-05, momentum=0.005, affine=True, track_running_stats=True)\n",
      "    (relu_41): ReLU()\n",
      "    (conv2d_42): Conv2d(16, 16, kernel_size=(3, 3), stride=(1, 1), bias=False)\n",
      "    (bn_42): BatchNorm2d(16, eps=1e-05, momentum=0.005, affine=True, track_running_stats=True)\n",
      "    (relu_42): ReLU()\n",
      "    (maxpool_4): MaxPool2d(kernel_size=2, stride=2, padding=0, dilation=1, ceil_mode=False)\n",
      "    (conv2d_51): Conv2d(16, 32, kernel_size=(3, 3), stride=(1, 1), bias=False)\n",
      "    (bn_51): BatchNorm2d(32, eps=1e-05, momentum=0.005, affine=True, track_running_stats=True)\n",
      "    (relu_51): ReLU()\n",
      "    (conv2d_52): Conv2d(32, 32, kernel_size=(3, 3), stride=(1, 1), bias=False)\n",
      "    (bn_52): BatchNorm2d(32, eps=1e-05, momentum=0.005, affine=True, track_running_stats=True)\n",
      "    (relu_52): ReLU()\n",
      "    (maxpool_5): MaxPool2d(kernel_size=2, stride=2, padding=0, dilation=1, ceil_mode=False)\n",
      "  )\n",
      "  (enc_linear): Sequential(\n",
      "    (0): Linear(in_features=2055, out_features=128, bias=False)\n",
      "    (1): BatchNorm1d(128, eps=1e-05, momentum=0.1, affine=True, track_running_stats=True)\n",
      "    (2): ReLU()\n",
      "    (3): Linear(in_features=128, out_features=16, bias=True)\n",
      "  )\n",
      "  (dec_linear): Sequential(\n",
      "    (0): Linear(in_features=16, out_features=128, bias=False)\n",
      "    (1): BatchNorm1d(128, eps=1e-05, momentum=0.1, affine=True, track_running_stats=True)\n",
      "    (2): ReLU()\n",
      "    (3): Dropout(p=0.2, inplace=False)\n",
      "    (4): Linear(in_features=128, out_features=256, bias=False)\n",
      "    (5): BatchNorm1d(256, eps=1e-05, momentum=0.1, affine=True, track_running_stats=True)\n",
      "    (6): ReLU()\n",
      "    (7): Dropout(p=0.2, inplace=False)\n",
      "    (8): Linear(in_features=256, out_features=1024, bias=False)\n",
      "    (9): BatchNorm1d(1024, eps=1e-05, momentum=0.1, affine=True, track_running_stats=True)\n",
      "    (10): ReLU()\n",
      "    (11): Dropout(p=0.2, inplace=False)\n",
      "    (12): Linear(in_features=1024, out_features=4096, bias=False)\n",
      "    (13): ReLU()\n",
      "  )\n",
      "  (dec_transconv): Sequential(\n",
      "    (0): ConvTranspose2d(16, 16, kernel_size=(4, 4), stride=(2, 2), output_padding=(1, 1), bias=False)\n",
      "    (1): Conv2d(16, 16, kernel_size=(4, 4), stride=(1, 1), bias=False)\n",
      "    (2): BatchNorm2d(16, eps=1e-05, momentum=0.005, affine=True, track_running_stats=True)\n",
      "    (3): ReLU()\n",
      "    (4): Conv2d(16, 8, kernel_size=(4, 4), stride=(1, 1), bias=False)\n",
      "    (5): BatchNorm2d(8, eps=1e-05, momentum=0.005, affine=True, track_running_stats=True)\n",
      "    (6): ReLU()\n",
      "    (7): ConvTranspose2d(8, 8, kernel_size=(4, 4), stride=(2, 2), output_padding=(1, 1), bias=False)\n",
      "    (8): Conv2d(8, 8, kernel_size=(4, 4), stride=(1, 1), bias=False)\n",
      "    (9): BatchNorm2d(8, eps=1e-05, momentum=0.005, affine=True, track_running_stats=True)\n",
      "    (10): ReLU()\n",
      "    (11): Conv2d(8, 4, kernel_size=(4, 4), stride=(1, 1), bias=False)\n",
      "    (12): BatchNorm2d(4, eps=1e-05, momentum=0.005, affine=True, track_running_stats=True)\n",
      "    (13): ReLU()\n",
      "    (14): ConvTranspose2d(4, 4, kernel_size=(4, 4), stride=(2, 2), output_padding=(1, 1), bias=False)\n",
      "    (15): Conv2d(4, 4, kernel_size=(4, 4), stride=(1, 1), bias=False)\n",
      "    (16): BatchNorm2d(4, eps=1e-05, momentum=0.005, affine=True, track_running_stats=True)\n",
      "    (17): ReLU()\n",
      "    (18): Conv2d(4, 4, kernel_size=(4, 4), stride=(1, 1), bias=False)\n",
      "    (19): BatchNorm2d(4, eps=1e-05, momentum=0.005, affine=True, track_running_stats=True)\n",
      "    (20): ReLU()\n",
      "    (21): ConvTranspose2d(4, 4, kernel_size=(4, 4), stride=(2, 2), output_padding=(1, 1), bias=False)\n",
      "    (22): Conv2d(4, 4, kernel_size=(4, 4), stride=(1, 1), bias=False)\n",
      "    (23): BatchNorm2d(4, eps=1e-05, momentum=0.005, affine=True, track_running_stats=True)\n",
      "    (24): ReLU()\n",
      "    (25): Conv2d(4, 1, kernel_size=(7, 7), stride=(1, 1))\n",
      "    (26): Sigmoid()\n",
      "  )\n",
      ")\n",
      "Num of trainable params:  4792475\n",
      "\n",
      "\n",
      "Optimizer    : Adam (\n",
      "Parameter Group 0\n",
      "    amsgrad: False\n",
      "    betas: (0.9, 0.999)\n",
      "    capturable: False\n",
      "    differentiable: False\n",
      "    eps: 1e-08\n",
      "    foreach: None\n",
      "    fused: False\n",
      "    lr: 0.0001\n",
      "    maximize: False\n",
      "    weight_decay: 1e-06\n",
      ")\n",
      "LR Scheduler : NoneType\n",
      "########################################\n",
      "########  Running in  cpu  #########\n",
      "########################################\n",
      "Is model in cuda?  False\n",
      "########################################\n",
      "\n",
      "Epoch 1\n"
     ]
    },
    {
     "ename": "RuntimeError",
     "evalue": "Calculated padded input size per channel: (1 x 400). Kernel size: (3 x 3). Kernel size can't be greater than actual input size",
     "output_type": "error",
     "traceback": [
      "\u001b[0;31m---------------------------------------------------------------------------\u001b[0m",
      "\u001b[0;31mRuntimeError\u001b[0m                              Traceback (most recent call last)",
      "\u001b[0;32m/orange/adamginsburg/robitaille_models/ML_PPDAE/PPDAE/ppdae/scripts/ae_main.py\u001b[0m in \u001b[0;36m<module>\u001b[0;34m\u001b[0m\n\u001b[1;32m    345\u001b[0m         \u001b[0mprint\u001b[0m\u001b[0;34m(\u001b[0m\u001b[0;34m\"%15s\\t: %s\"\u001b[0m \u001b[0;34m%\u001b[0m \u001b[0;34m(\u001b[0m\u001b[0mkey\u001b[0m\u001b[0;34m,\u001b[0m \u001b[0mvalue\u001b[0m\u001b[0;34m)\u001b[0m\u001b[0;34m)\u001b[0m\u001b[0;34m\u001b[0m\u001b[0;34m\u001b[0m\u001b[0m\n\u001b[1;32m    346\u001b[0m \u001b[0;34m\u001b[0m\u001b[0m\n\u001b[0;32m--> 347\u001b[0;31m     \u001b[0mmain\u001b[0m\u001b[0;34m(\u001b[0m\u001b[0;34m)\u001b[0m\u001b[0;34m\u001b[0m\u001b[0;34m\u001b[0m\u001b[0m\n\u001b[0m",
      "\u001b[0;32m/orange/adamginsburg/robitaille_models/ML_PPDAE/PPDAE/ppdae/scripts/ae_main.py\u001b[0m in \u001b[0;36mmain\u001b[0;34m()\u001b[0m\n\u001b[1;32m    335\u001b[0m \u001b[0;34m\u001b[0m\u001b[0m\n\u001b[1;32m    336\u001b[0m     \u001b[0;31m# run training/testing iterations\u001b[0m\u001b[0;34m\u001b[0m\u001b[0;34m\u001b[0m\u001b[0m\n\u001b[0;32m--> 337\u001b[0;31m     trainer.train(\n\u001b[0m\u001b[1;32m    338\u001b[0m         \u001b[0mtrain_loader\u001b[0m\u001b[0;34m,\u001b[0m \u001b[0mval_loader\u001b[0m\u001b[0;34m,\u001b[0m \u001b[0margs\u001b[0m\u001b[0;34m.\u001b[0m\u001b[0mnum_epochs\u001b[0m\u001b[0;34m,\u001b[0m \u001b[0msave\u001b[0m\u001b[0;34m=\u001b[0m\u001b[0;32mTrue\u001b[0m\u001b[0;34m,\u001b[0m \u001b[0mearly_stop\u001b[0m\u001b[0;34m=\u001b[0m\u001b[0margs\u001b[0m\u001b[0;34m.\u001b[0m\u001b[0mearly_stop\u001b[0m\u001b[0;34m\u001b[0m\u001b[0;34m\u001b[0m\u001b[0m\n\u001b[1;32m    339\u001b[0m     )\n",
      "\u001b[0;32m/orange/adamginsburg/robitaille_models/ML_PPDAE/PPDAE/ppdae/ae_training_phy.py\u001b[0m in \u001b[0;36mtrain\u001b[0;34m(self, train_loader, test_loader, epochs, save, early_stop)\u001b[0m\n\u001b[1;32m    254\u001b[0m \u001b[0;34m\u001b[0m\u001b[0m\n\u001b[1;32m    255\u001b[0m             \u001b[0;31m# train and validate\u001b[0m\u001b[0;34m\u001b[0m\u001b[0;34m\u001b[0m\u001b[0m\n\u001b[0;32m--> 256\u001b[0;31m             \u001b[0mself\u001b[0m\u001b[0;34m.\u001b[0m\u001b[0m_train_epoch\u001b[0m\u001b[0;34m(\u001b[0m\u001b[0mtrain_loader\u001b[0m\u001b[0;34m,\u001b[0m \u001b[0mepoch\u001b[0m\u001b[0;34m)\u001b[0m\u001b[0;34m\u001b[0m\u001b[0;34m\u001b[0m\u001b[0m\n\u001b[0m\u001b[1;32m    257\u001b[0m             \u001b[0mval_loss\u001b[0m \u001b[0;34m=\u001b[0m \u001b[0mself\u001b[0m\u001b[0;34m.\u001b[0m\u001b[0m_test_epoch\u001b[0m\u001b[0;34m(\u001b[0m\u001b[0mtest_loader\u001b[0m\u001b[0;34m,\u001b[0m \u001b[0mepoch\u001b[0m\u001b[0;34m)\u001b[0m\u001b[0;34m\u001b[0m\u001b[0;34m\u001b[0m\u001b[0m\n\u001b[1;32m    258\u001b[0m \u001b[0;34m\u001b[0m\u001b[0m\n",
      "\u001b[0;32m/orange/adamginsburg/robitaille_models/ML_PPDAE/PPDAE/ppdae/ae_training_phy.py\u001b[0m in \u001b[0;36m_train_epoch\u001b[0;34m(self, data_loader, epoch)\u001b[0m\n\u001b[1;32m    146\u001b[0m             \u001b[0mphy\u001b[0m \u001b[0;34m=\u001b[0m \u001b[0mphy\u001b[0m\u001b[0;34m.\u001b[0m\u001b[0mto\u001b[0m\u001b[0;34m(\u001b[0m\u001b[0mself\u001b[0m\u001b[0;34m.\u001b[0m\u001b[0mdevice\u001b[0m\u001b[0;34m)\u001b[0m\u001b[0;34m\u001b[0m\u001b[0;34m\u001b[0m\u001b[0m\n\u001b[1;32m    147\u001b[0m \u001b[0;34m\u001b[0m\u001b[0m\n\u001b[0;32m--> 148\u001b[0;31m             \u001b[0mxhat\u001b[0m\u001b[0;34m,\u001b[0m \u001b[0mz\u001b[0m \u001b[0;34m=\u001b[0m \u001b[0mself\u001b[0m\u001b[0;34m.\u001b[0m\u001b[0mmodel\u001b[0m\u001b[0;34m(\u001b[0m\u001b[0mimg\u001b[0m\u001b[0;34m,\u001b[0m \u001b[0mphy\u001b[0m\u001b[0;34m=\u001b[0m\u001b[0mphy\u001b[0m\u001b[0;34m)\u001b[0m\u001b[0;34m\u001b[0m\u001b[0;34m\u001b[0m\u001b[0m\n\u001b[0m\u001b[1;32m    149\u001b[0m             \u001b[0;31m# calculate loss value\u001b[0m\u001b[0;34m\u001b[0m\u001b[0;34m\u001b[0m\u001b[0m\n\u001b[1;32m    150\u001b[0m             \u001b[0mloss\u001b[0m \u001b[0;34m=\u001b[0m \u001b[0mself\u001b[0m\u001b[0;34m.\u001b[0m\u001b[0m_loss\u001b[0m\u001b[0;34m(\u001b[0m\u001b[0mimg\u001b[0m\u001b[0;34m,\u001b[0m \u001b[0mxhat\u001b[0m\u001b[0;34m,\u001b[0m \u001b[0mtrain\u001b[0m\u001b[0;34m=\u001b[0m\u001b[0;32mTrue\u001b[0m\u001b[0;34m,\u001b[0m \u001b[0mep\u001b[0m\u001b[0;34m=\u001b[0m\u001b[0mepoch\u001b[0m\u001b[0;34m)\u001b[0m\u001b[0;34m\u001b[0m\u001b[0;34m\u001b[0m\u001b[0m\n",
      "\u001b[0;32m/orange/adamginsburg/miniconda3/envs/python39/lib/python3.9/site-packages/torch/nn/modules/module.py\u001b[0m in \u001b[0;36m_call_impl\u001b[0;34m(self, *input, **kwargs)\u001b[0m\n\u001b[1;32m   1192\u001b[0m         if not (self._backward_hooks or self._forward_hooks or self._forward_pre_hooks or _global_backward_hooks\n\u001b[1;32m   1193\u001b[0m                 or _global_forward_hooks or _global_forward_pre_hooks):\n\u001b[0;32m-> 1194\u001b[0;31m             \u001b[0;32mreturn\u001b[0m \u001b[0mforward_call\u001b[0m\u001b[0;34m(\u001b[0m\u001b[0;34m*\u001b[0m\u001b[0minput\u001b[0m\u001b[0;34m,\u001b[0m \u001b[0;34m**\u001b[0m\u001b[0mkwargs\u001b[0m\u001b[0;34m)\u001b[0m\u001b[0;34m\u001b[0m\u001b[0;34m\u001b[0m\u001b[0m\n\u001b[0m\u001b[1;32m   1195\u001b[0m         \u001b[0;31m# Do not call functions when jit is used\u001b[0m\u001b[0;34m\u001b[0m\u001b[0;34m\u001b[0m\u001b[0m\n\u001b[1;32m   1196\u001b[0m         \u001b[0mfull_backward_hooks\u001b[0m\u001b[0;34m,\u001b[0m \u001b[0mnon_full_backward_hooks\u001b[0m \u001b[0;34m=\u001b[0m \u001b[0;34m[\u001b[0m\u001b[0;34m]\u001b[0m\u001b[0;34m,\u001b[0m \u001b[0;34m[\u001b[0m\u001b[0;34m]\u001b[0m\u001b[0;34m\u001b[0m\u001b[0;34m\u001b[0m\u001b[0m\n",
      "\u001b[0;32m/orange/adamginsburg/robitaille_models/ML_PPDAE/PPDAE/ppdae/ae_model_phy.py\u001b[0m in \u001b[0;36mforward\u001b[0;34m(self, x, phy)\u001b[0m\n\u001b[1;32m    267\u001b[0m             \u001b[0mlatent\u001b[0m \u001b[0mcode\u001b[0m \u001b[0;34m[\u001b[0m\u001b[0mN\u001b[0m\u001b[0;34m,\u001b[0m \u001b[0mlatent_dim\u001b[0m\u001b[0;34m]\u001b[0m\u001b[0;34m\u001b[0m\u001b[0;34m\u001b[0m\u001b[0m\n\u001b[1;32m    268\u001b[0m         \"\"\"\n\u001b[0;32m--> 269\u001b[0;31m         \u001b[0mz\u001b[0m \u001b[0;34m=\u001b[0m \u001b[0mself\u001b[0m\u001b[0;34m.\u001b[0m\u001b[0mencode\u001b[0m\u001b[0;34m(\u001b[0m\u001b[0mx\u001b[0m\u001b[0;34m,\u001b[0m \u001b[0mphy\u001b[0m\u001b[0;34m=\u001b[0m\u001b[0mphy\u001b[0m\u001b[0;34m)\u001b[0m\u001b[0;34m\u001b[0m\u001b[0;34m\u001b[0m\u001b[0m\n\u001b[0m\u001b[1;32m    270\u001b[0m         \u001b[0mxhat\u001b[0m \u001b[0;34m=\u001b[0m \u001b[0mself\u001b[0m\u001b[0;34m.\u001b[0m\u001b[0mdecode\u001b[0m\u001b[0;34m(\u001b[0m\u001b[0mz\u001b[0m\u001b[0;34m,\u001b[0m \u001b[0mphy\u001b[0m\u001b[0;34m=\u001b[0m\u001b[0mphy\u001b[0m\u001b[0;34m)\u001b[0m\u001b[0;34m\u001b[0m\u001b[0;34m\u001b[0m\u001b[0m\n\u001b[1;32m    271\u001b[0m         \u001b[0;32mreturn\u001b[0m \u001b[0mxhat\u001b[0m\u001b[0;34m,\u001b[0m \u001b[0mz\u001b[0m\u001b[0;34m\u001b[0m\u001b[0;34m\u001b[0m\u001b[0m\n",
      "\u001b[0;32m/orange/adamginsburg/robitaille_models/ML_PPDAE/PPDAE/ppdae/ae_model_phy.py\u001b[0m in \u001b[0;36mencode\u001b[0;34m(self, x, phy)\u001b[0m\n\u001b[1;32m    224\u001b[0m             \u001b[0mlatent\u001b[0m \u001b[0mcode\u001b[0m\u001b[0;34m\u001b[0m\u001b[0;34m\u001b[0m\u001b[0m\n\u001b[1;32m    225\u001b[0m         \"\"\"\n\u001b[0;32m--> 226\u001b[0;31m         \u001b[0mx\u001b[0m \u001b[0;34m=\u001b[0m \u001b[0mself\u001b[0m\u001b[0;34m.\u001b[0m\u001b[0menc_conv_blocks\u001b[0m\u001b[0;34m(\u001b[0m\u001b[0mx\u001b[0m\u001b[0;34m)\u001b[0m\u001b[0;34m\u001b[0m\u001b[0;34m\u001b[0m\u001b[0m\n\u001b[0m\u001b[1;32m    227\u001b[0m         \u001b[0mx\u001b[0m \u001b[0;34m=\u001b[0m \u001b[0mx\u001b[0m\u001b[0;34m.\u001b[0m\u001b[0mflatten\u001b[0m\u001b[0;34m(\u001b[0m\u001b[0;36m1\u001b[0m\u001b[0;34m)\u001b[0m\u001b[0;34m\u001b[0m\u001b[0;34m\u001b[0m\u001b[0m\n\u001b[1;32m    228\u001b[0m         \u001b[0;32mif\u001b[0m \u001b[0mself\u001b[0m\u001b[0;34m.\u001b[0m\u001b[0mphy_dim\u001b[0m \u001b[0;34m>\u001b[0m \u001b[0;36m0\u001b[0m \u001b[0;32mand\u001b[0m \u001b[0mphy\u001b[0m \u001b[0;32mis\u001b[0m \u001b[0;32mnot\u001b[0m \u001b[0;32mNone\u001b[0m\u001b[0;34m:\u001b[0m\u001b[0;34m\u001b[0m\u001b[0;34m\u001b[0m\u001b[0m\n",
      "\u001b[0;32m/orange/adamginsburg/miniconda3/envs/python39/lib/python3.9/site-packages/torch/nn/modules/module.py\u001b[0m in \u001b[0;36m_call_impl\u001b[0;34m(self, *input, **kwargs)\u001b[0m\n\u001b[1;32m   1192\u001b[0m         if not (self._backward_hooks or self._forward_hooks or self._forward_pre_hooks or _global_backward_hooks\n\u001b[1;32m   1193\u001b[0m                 or _global_forward_hooks or _global_forward_pre_hooks):\n\u001b[0;32m-> 1194\u001b[0;31m             \u001b[0;32mreturn\u001b[0m \u001b[0mforward_call\u001b[0m\u001b[0;34m(\u001b[0m\u001b[0;34m*\u001b[0m\u001b[0minput\u001b[0m\u001b[0;34m,\u001b[0m \u001b[0;34m**\u001b[0m\u001b[0mkwargs\u001b[0m\u001b[0;34m)\u001b[0m\u001b[0;34m\u001b[0m\u001b[0;34m\u001b[0m\u001b[0m\n\u001b[0m\u001b[1;32m   1195\u001b[0m         \u001b[0;31m# Do not call functions when jit is used\u001b[0m\u001b[0;34m\u001b[0m\u001b[0;34m\u001b[0m\u001b[0m\n\u001b[1;32m   1196\u001b[0m         \u001b[0mfull_backward_hooks\u001b[0m\u001b[0;34m,\u001b[0m \u001b[0mnon_full_backward_hooks\u001b[0m \u001b[0;34m=\u001b[0m \u001b[0;34m[\u001b[0m\u001b[0;34m]\u001b[0m\u001b[0;34m,\u001b[0m \u001b[0;34m[\u001b[0m\u001b[0;34m]\u001b[0m\u001b[0;34m\u001b[0m\u001b[0;34m\u001b[0m\u001b[0m\n",
      "\u001b[0;32m/orange/adamginsburg/miniconda3/envs/python39/lib/python3.9/site-packages/torch/nn/modules/container.py\u001b[0m in \u001b[0;36mforward\u001b[0;34m(self, input)\u001b[0m\n\u001b[1;32m    202\u001b[0m     \u001b[0;32mdef\u001b[0m \u001b[0mforward\u001b[0m\u001b[0;34m(\u001b[0m\u001b[0mself\u001b[0m\u001b[0;34m,\u001b[0m \u001b[0minput\u001b[0m\u001b[0;34m)\u001b[0m\u001b[0;34m:\u001b[0m\u001b[0;34m\u001b[0m\u001b[0;34m\u001b[0m\u001b[0m\n\u001b[1;32m    203\u001b[0m         \u001b[0;32mfor\u001b[0m \u001b[0mmodule\u001b[0m \u001b[0;32min\u001b[0m \u001b[0mself\u001b[0m\u001b[0;34m:\u001b[0m\u001b[0;34m\u001b[0m\u001b[0;34m\u001b[0m\u001b[0m\n\u001b[0;32m--> 204\u001b[0;31m             \u001b[0minput\u001b[0m \u001b[0;34m=\u001b[0m \u001b[0mmodule\u001b[0m\u001b[0;34m(\u001b[0m\u001b[0minput\u001b[0m\u001b[0;34m)\u001b[0m\u001b[0;34m\u001b[0m\u001b[0;34m\u001b[0m\u001b[0m\n\u001b[0m\u001b[1;32m    205\u001b[0m         \u001b[0;32mreturn\u001b[0m \u001b[0minput\u001b[0m\u001b[0;34m\u001b[0m\u001b[0;34m\u001b[0m\u001b[0m\n\u001b[1;32m    206\u001b[0m \u001b[0;34m\u001b[0m\u001b[0m\n",
      "\u001b[0;32m/orange/adamginsburg/miniconda3/envs/python39/lib/python3.9/site-packages/torch/nn/modules/module.py\u001b[0m in \u001b[0;36m_call_impl\u001b[0;34m(self, *input, **kwargs)\u001b[0m\n\u001b[1;32m   1210\u001b[0m             \u001b[0minput\u001b[0m \u001b[0;34m=\u001b[0m \u001b[0mbw_hook\u001b[0m\u001b[0;34m.\u001b[0m\u001b[0msetup_input_hook\u001b[0m\u001b[0;34m(\u001b[0m\u001b[0minput\u001b[0m\u001b[0;34m)\u001b[0m\u001b[0;34m\u001b[0m\u001b[0;34m\u001b[0m\u001b[0m\n\u001b[1;32m   1211\u001b[0m \u001b[0;34m\u001b[0m\u001b[0m\n\u001b[0;32m-> 1212\u001b[0;31m         \u001b[0mresult\u001b[0m \u001b[0;34m=\u001b[0m \u001b[0mforward_call\u001b[0m\u001b[0;34m(\u001b[0m\u001b[0;34m*\u001b[0m\u001b[0minput\u001b[0m\u001b[0;34m,\u001b[0m \u001b[0;34m**\u001b[0m\u001b[0mkwargs\u001b[0m\u001b[0;34m)\u001b[0m\u001b[0;34m\u001b[0m\u001b[0;34m\u001b[0m\u001b[0m\n\u001b[0m\u001b[1;32m   1213\u001b[0m         \u001b[0;32mif\u001b[0m \u001b[0m_global_forward_hooks\u001b[0m \u001b[0;32mor\u001b[0m \u001b[0mself\u001b[0m\u001b[0;34m.\u001b[0m\u001b[0m_forward_hooks\u001b[0m\u001b[0;34m:\u001b[0m\u001b[0;34m\u001b[0m\u001b[0;34m\u001b[0m\u001b[0m\n\u001b[1;32m   1214\u001b[0m             \u001b[0;32mfor\u001b[0m \u001b[0mhook\u001b[0m \u001b[0;32min\u001b[0m \u001b[0;34m(\u001b[0m\u001b[0;34m*\u001b[0m\u001b[0m_global_forward_hooks\u001b[0m\u001b[0;34m.\u001b[0m\u001b[0mvalues\u001b[0m\u001b[0;34m(\u001b[0m\u001b[0;34m)\u001b[0m\u001b[0;34m,\u001b[0m \u001b[0;34m*\u001b[0m\u001b[0mself\u001b[0m\u001b[0;34m.\u001b[0m\u001b[0m_forward_hooks\u001b[0m\u001b[0;34m.\u001b[0m\u001b[0mvalues\u001b[0m\u001b[0;34m(\u001b[0m\u001b[0;34m)\u001b[0m\u001b[0;34m)\u001b[0m\u001b[0;34m:\u001b[0m\u001b[0;34m\u001b[0m\u001b[0;34m\u001b[0m\u001b[0m\n",
      "\u001b[0;32m/orange/adamginsburg/miniconda3/envs/python39/lib/python3.9/site-packages/torch/nn/modules/conv.py\u001b[0m in \u001b[0;36mforward\u001b[0;34m(self, input)\u001b[0m\n\u001b[1;32m    461\u001b[0m \u001b[0;34m\u001b[0m\u001b[0m\n\u001b[1;32m    462\u001b[0m     \u001b[0;32mdef\u001b[0m \u001b[0mforward\u001b[0m\u001b[0;34m(\u001b[0m\u001b[0mself\u001b[0m\u001b[0;34m,\u001b[0m \u001b[0minput\u001b[0m\u001b[0;34m:\u001b[0m \u001b[0mTensor\u001b[0m\u001b[0;34m)\u001b[0m \u001b[0;34m->\u001b[0m \u001b[0mTensor\u001b[0m\u001b[0;34m:\u001b[0m\u001b[0;34m\u001b[0m\u001b[0;34m\u001b[0m\u001b[0m\n\u001b[0;32m--> 463\u001b[0;31m         \u001b[0;32mreturn\u001b[0m \u001b[0mself\u001b[0m\u001b[0;34m.\u001b[0m\u001b[0m_conv_forward\u001b[0m\u001b[0;34m(\u001b[0m\u001b[0minput\u001b[0m\u001b[0;34m,\u001b[0m \u001b[0mself\u001b[0m\u001b[0;34m.\u001b[0m\u001b[0mweight\u001b[0m\u001b[0;34m,\u001b[0m \u001b[0mself\u001b[0m\u001b[0;34m.\u001b[0m\u001b[0mbias\u001b[0m\u001b[0;34m)\u001b[0m\u001b[0;34m\u001b[0m\u001b[0;34m\u001b[0m\u001b[0m\n\u001b[0m\u001b[1;32m    464\u001b[0m \u001b[0;34m\u001b[0m\u001b[0m\n\u001b[1;32m    465\u001b[0m \u001b[0;32mclass\u001b[0m \u001b[0mConv3d\u001b[0m\u001b[0;34m(\u001b[0m\u001b[0m_ConvNd\u001b[0m\u001b[0;34m)\u001b[0m\u001b[0;34m:\u001b[0m\u001b[0;34m\u001b[0m\u001b[0;34m\u001b[0m\u001b[0m\n",
      "\u001b[0;32m/orange/adamginsburg/miniconda3/envs/python39/lib/python3.9/site-packages/torch/nn/modules/conv.py\u001b[0m in \u001b[0;36m_conv_forward\u001b[0;34m(self, input, weight, bias)\u001b[0m\n\u001b[1;32m    457\u001b[0m                             \u001b[0mweight\u001b[0m\u001b[0;34m,\u001b[0m \u001b[0mbias\u001b[0m\u001b[0;34m,\u001b[0m \u001b[0mself\u001b[0m\u001b[0;34m.\u001b[0m\u001b[0mstride\u001b[0m\u001b[0;34m,\u001b[0m\u001b[0;34m\u001b[0m\u001b[0;34m\u001b[0m\u001b[0m\n\u001b[1;32m    458\u001b[0m                             _pair(0), self.dilation, self.groups)\n\u001b[0;32m--> 459\u001b[0;31m         return F.conv2d(input, weight, bias, self.stride,\n\u001b[0m\u001b[1;32m    460\u001b[0m                         self.padding, self.dilation, self.groups)\n\u001b[1;32m    461\u001b[0m \u001b[0;34m\u001b[0m\u001b[0m\n",
      "\u001b[0;31mRuntimeError\u001b[0m: Calculated padded input size per channel: (1 x 400). Kernel size: (3 x 3). Kernel size can't be greater than actual input size"
     ]
    },
    {
     "name": "stderr",
     "output_type": "stream",
     "text": [
      "\n",
      "CondaError: Expected exactly one `egg-info` directory in '/blue/adamginsburg/adamginsburg/repos/crowdsource', via egg-link 'lib/python3.9/site-packages/crowdsource.egg-link'. Instead found: ('crowdsource.egg-info', 'crowdsourcephoto.egg-info').  These are often left over from legacy operations that did not clean up correctly.  Please remove all but one of these.\n",
      "\n"
     ]
    }
   ],
   "source": [
    "%run $rootdir/PPDAE/ppdae/scripts/ae_main.py --latent-dim 16 --batch-size 128 --machine hpg --data Robitaille"
   ]
  },
  {
   "cell_type": "code",
   "execution_count": null,
   "id": "a6659b42-d4fa-408b-9abd-a778919ead11",
   "metadata": {},
   "outputs": [],
   "source": []
  }
 ],
 "metadata": {
  "kernelspec": {
   "display_name": "python39",
   "language": "python",
   "name": "python39"
  },
  "language_info": {
   "codemirror_mode": {
    "name": "ipython",
    "version": 3
   },
   "file_extension": ".py",
   "mimetype": "text/x-python",
   "name": "python",
   "nbconvert_exporter": "python",
   "pygments_lexer": "ipython3",
   "version": "3.9.13"
  }
 },
 "nbformat": 4,
 "nbformat_minor": 5
}
